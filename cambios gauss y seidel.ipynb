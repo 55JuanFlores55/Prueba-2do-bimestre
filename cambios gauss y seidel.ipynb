{
 "cells": [
  {
   "cell_type": "code",
   "execution_count": null,
   "id": "53ed596a-35b9-40c9-a39c-6522d6ca78c2",
   "metadata": {},
   "outputs": [],
   "source": [
    "CAMBIOS REALIZADOS: \n",
    "Se añadieron la definición del sistema de ecuaciones, incluyendo la matriz A, el vector b y la estimacion de x0\n",
    "Se añadieron las funcione"
   ]
  }
 ],
 "metadata": {
  "kernelspec": {
   "display_name": "Python 3 (ipykernel)",
   "language": "python",
   "name": "python3"
  },
  "language_info": {
   "codemirror_mode": {
    "name": "ipython",
    "version": 3
   },
   "file_extension": ".py",
   "mimetype": "text/x-python",
   "name": "python",
   "nbconvert_exporter": "python",
   "pygments_lexer": "ipython3",
   "version": "3.11.7"
  }
 },
 "nbformat": 4,
 "nbformat_minor": 5
}
